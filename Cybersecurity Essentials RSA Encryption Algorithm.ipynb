{
 "cells": [
  {
   "cell_type": "code",
   "execution_count": 2,
   "id": "da283b72",
   "metadata": {},
   "outputs": [],
   "source": [
    "#Fordham University\n",
    "#Felipe Trinidad Pilier\n",
    "#October 28, 2024\n",
    "#CISC 5650\n",
    "#Lab 3"
   ]
  },
  {
   "cell_type": "code",
   "execution_count": 3,
   "id": "a18dbd5a",
   "metadata": {},
   "outputs": [],
   "source": [
    "from sympy import isprime, mod_inverse\n",
    "from math import gcd"
   ]
  },
  {
   "cell_type": "code",
   "execution_count": 4,
   "id": "561169c7",
   "metadata": {},
   "outputs": [],
   "source": [
    "def find_valid_e(phi):\n",
    "    # Find a valid e where gcd(e, phi) = 1, starting from a common value\n",
    "    e = 3\n",
    "    while gcd(e, phi) != 1:\n",
    "        e += 2  # increment by 2 to keep it odd\n",
    "    return e"
   ]
  },
  {
   "cell_type": "code",
   "execution_count": 5,
   "id": "892153a5",
   "metadata": {},
   "outputs": [],
   "source": [
    "def rsa_generate_keys(p, q):\n",
    "    # Check if p and q are prime numbers\n",
    "    if not isprime(p) or not isprime(q):\n",
    "        return \"You entered a number, which is not a prime.\"\n",
    "\n",
    "    # Step 1: Calculate n = p * q\n",
    "    n = p * q\n",
    "\n",
    "    # Step 2: Calculate the totient (phi) = (p-1) * (q-1)\n",
    "    phi = (p - 1) * (q - 1)\n",
    "\n",
    "    # Step 3: Choose e such that 1 < e < phi and gcd(e, phi) = 1\n",
    "    e = find_valid_e(phi)\n",
    "\n",
    "    # Step 4: Compute d such that (d * e) % phi = 1 (modular inverse of e)\n",
    "    d = mod_inverse(e, phi)\n",
    "\n",
    "    # Public key (e, n) and Private key (d, n)\n",
    "    public_key = (e, n)\n",
    "    private_key = (d, n)\n",
    "\n",
    "    return public_key, private_key"
   ]
  },
  {
   "cell_type": "code",
   "execution_count": 6,
   "id": "baeff88e",
   "metadata": {},
   "outputs": [],
   "source": [
    "def rsa_encrypt(message, public_key):\n",
    "    e, n = public_key\n",
    "    encrypted_message = [pow(ord(char), e, n) for char in message]\n",
    "    return encrypted_message"
   ]
  },
  {
   "cell_type": "code",
   "execution_count": 7,
   "id": "0f404d26",
   "metadata": {},
   "outputs": [],
   "source": [
    "def rsa_decrypt(encrypted_message, private_key):\n",
    "    d, n = private_key\n",
    "    decrypted_message = ''.join([chr(pow(char, d, n)) for char in encrypted_message])\n",
    "    return decrypted_message"
   ]
  },
  {
   "cell_type": "code",
   "execution_count": 8,
   "id": "f96d4e72",
   "metadata": {},
   "outputs": [],
   "source": [
    "def main():\n",
    "    # Input two prime numbers\n",
    "    try:\n",
    "        p = int(input(\"Enter a prime number p: \"))\n",
    "        q = int(input(\"Enter a prime number q: \"))\n",
    "    except ValueError:\n",
    "        print(\"Please enter valid integers.\")\n",
    "        return\n",
    "\n",
    "    # Check if the numbers are prime\n",
    "    if not isprime(p) or not isprime(q):\n",
    "        print(\"You entered a number, which is not a prime.\")\n",
    "        return\n",
    "\n",
    "    # Input message to encrypt\n",
    "    message = input(\"Enter a message to encrypt: \")\n",
    "\n",
    "    # Generate RSA keys\n",
    "    public_key, private_key = rsa_generate_keys(p, q)\n",
    "\n",
    "    # Encrypt the message\n",
    "    encrypted_message = rsa_encrypt(message, public_key)\n",
    "\n",
    "    # Display results\n",
    "    print(f\"Public Key: {public_key}\")\n",
    "    print(f\"Private Key: {private_key}\")\n",
    "    print(f\"Original Message: {message}\")\n",
    "    print(f\"Encrypted Message: {encrypted_message}\")"
   ]
  },
  {
   "cell_type": "code",
   "execution_count": 9,
   "id": "184aa07d",
   "metadata": {},
   "outputs": [
    {
     "name": "stdout",
     "output_type": "stream",
     "text": [
      "Enter a prime number p: 6\n",
      "Enter a prime number q: 12\n",
      "You entered a number, which is not a prime.\n"
     ]
    }
   ],
   "source": [
    "# Run the program\n",
    "main()"
   ]
  }
 ],
 "metadata": {
  "kernelspec": {
   "display_name": "Python 3 (ipykernel)",
   "language": "python",
   "name": "python3"
  },
  "language_info": {
   "codemirror_mode": {
    "name": "ipython",
    "version": 3
   },
   "file_extension": ".py",
   "mimetype": "text/x-python",
   "name": "python",
   "nbconvert_exporter": "python",
   "pygments_lexer": "ipython3",
   "version": "3.11.5"
  }
 },
 "nbformat": 4,
 "nbformat_minor": 5
}
